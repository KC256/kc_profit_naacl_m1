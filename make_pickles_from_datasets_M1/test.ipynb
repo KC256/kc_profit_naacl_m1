{
 "cells": [
  {
   "cell_type": "markdown",
   "metadata": {},
   "source": [
    "/home/fukuda/Stock Tweets for Sentiment Analysis and Prediction から新たにpicklesを作るにあたり，去年の手法を見返しつつ，今後同様の操作を行う際にわかりやすくするため，このフォルダで一通り手順をわかるようにメモすることにする　2024/06/14\n",
    "\n",
    "/home/fukuda/Stock Tweets for Sentiment Analysis and Predictionからツイート関連のデータを取るのは新たなコードが若干必要，このデータセットの企業の10-Qを取る作業は去年のコードの使い回しが可能かと"
   ]
  },
  {
   "cell_type": "code",
   "execution_count": 8,
   "metadata": {},
   "outputs": [],
   "source": [
    "import pickle\n",
    "import re\n",
    "import os\n",
    "import pandas as pd\n",
    "from datetime import datetime, timedelta"
   ]
  },
  {
   "cell_type": "code",
   "execution_count": 2,
   "metadata": {},
   "outputs": [],
   "source": [
    "# https://www.kaggle.com/datasets/equinxx/stock-tweets-for-sentiment-analysis-and-prediction\n",
    "df = pd.read_csv(\"/home/fukuda/Stock Tweets for Sentiment Analysis and Prediction/archive/stock_tweets.csv\")"
   ]
  },
  {
   "cell_type": "code",
   "execution_count": 3,
   "metadata": {},
   "outputs": [
    {
     "name": "stdout",
     "output_type": "stream",
     "text": [
      "['TSLA' 'MSFT' 'PG' 'META' 'AMZN' 'GOOG' 'AMD' 'AAPL' 'NFLX' 'TSM' 'KO'\n",
      " 'F' 'COST' 'DIS' 'VZ' 'CRM' 'INTC' 'BA' 'BX' 'NOC' 'PYPL' 'ENPH' 'NIO'\n",
      " 'ZS' 'XPEV']\n",
      "25\n",
      "Index(['Date', 'Tweet', 'Stock Name', 'Company Name'], dtype='object')\n",
      "['Tesla, Inc.' 'Microsoft Corporation' 'Procter & Gamble Company'\n",
      " 'Meta Platforms, Inc.' 'Amazon.com, Inc.' 'Alphabet Inc.'\n",
      " 'Advanced Micro Devices, Inc.' 'Apple Inc.' 'Netflix, Inc.'\n",
      " 'Taiwan Semiconductor Manufacturing Company Limited'\n",
      " 'The Coca-Cola Company' 'Ford Motor Company'\n",
      " 'Costco Wholesale Corporation' 'The Walt Disney Company'\n",
      " 'Verizon Communications Inc.' 'Salesforce, Inc.' 'Intel Corporation'\n",
      " 'The Boeing Company' 'Blackstone Inc.' 'Northrop Grumman Corporation'\n",
      " 'PayPal Holdings, Inc.' 'Enphase Energy, Inc.' 'NIO Inc.' 'Zscaler, Inc.'\n",
      " 'XPeng Inc.']\n",
      "25\n"
     ]
    }
   ],
   "source": [
    "# print(df)\n",
    "unique_stock_names = df['Stock Name'].unique()\n",
    "print(unique_stock_names)\n",
    "print(len(unique_stock_names)) #25\n",
    "column_names = df.columns\n",
    "print(column_names)\n",
    "unique_company_names = df['Company Name'].unique()\n",
    "print(unique_company_names)\n",
    "print(len(unique_company_names))"
   ]
  },
  {
   "cell_type": "code",
   "execution_count": 3,
   "metadata": {},
   "outputs": [
    {
     "name": "stdout",
     "output_type": "stream",
     "text": [
      "Date                                    2022-09-29 23:41:16+00:00\n",
      "Tweet           Mainstream media has done an amazing job at br...\n",
      "Stock Name                                                   TSLA\n",
      "Company Name                                          Tesla, Inc.\n",
      "Name: 0, dtype: object\n"
     ]
    }
   ],
   "source": [
    "print(df.iloc[0])"
   ]
  },
  {
   "cell_type": "code",
   "execution_count": 10,
   "metadata": {},
   "outputs": [
    {
     "ename": "KeyError",
     "evalue": "'date'",
     "output_type": "error",
     "traceback": [
      "\u001b[0;31m---------------------------------------------------------------------------\u001b[0m",
      "\u001b[0;31mKeyError\u001b[0m                                  Traceback (most recent call last)",
      "File \u001b[0;32m~/.conda/envs/fingpt/lib/python3.10/site-packages/pandas/core/indexes/base.py:3653\u001b[0m, in \u001b[0;36mIndex.get_loc\u001b[0;34m(self, key)\u001b[0m\n\u001b[1;32m   3652\u001b[0m \u001b[38;5;28;01mtry\u001b[39;00m:\n\u001b[0;32m-> 3653\u001b[0m     \u001b[38;5;28;01mreturn\u001b[39;00m \u001b[38;5;28;43mself\u001b[39;49m\u001b[38;5;241;43m.\u001b[39;49m\u001b[43m_engine\u001b[49m\u001b[38;5;241;43m.\u001b[39;49m\u001b[43mget_loc\u001b[49m\u001b[43m(\u001b[49m\u001b[43mcasted_key\u001b[49m\u001b[43m)\u001b[49m\n\u001b[1;32m   3654\u001b[0m \u001b[38;5;28;01mexcept\u001b[39;00m \u001b[38;5;167;01mKeyError\u001b[39;00m \u001b[38;5;28;01mas\u001b[39;00m err:\n",
      "File \u001b[0;32m~/.conda/envs/fingpt/lib/python3.10/site-packages/pandas/_libs/index.pyx:147\u001b[0m, in \u001b[0;36mpandas._libs.index.IndexEngine.get_loc\u001b[0;34m()\u001b[0m\n",
      "File \u001b[0;32m~/.conda/envs/fingpt/lib/python3.10/site-packages/pandas/_libs/index.pyx:176\u001b[0m, in \u001b[0;36mpandas._libs.index.IndexEngine.get_loc\u001b[0;34m()\u001b[0m\n",
      "File \u001b[0;32mpandas/_libs/hashtable_class_helper.pxi:7080\u001b[0m, in \u001b[0;36mpandas._libs.hashtable.PyObjectHashTable.get_item\u001b[0;34m()\u001b[0m\n",
      "File \u001b[0;32mpandas/_libs/hashtable_class_helper.pxi:7088\u001b[0m, in \u001b[0;36mpandas._libs.hashtable.PyObjectHashTable.get_item\u001b[0;34m()\u001b[0m\n",
      "\u001b[0;31mKeyError\u001b[0m: 'date'",
      "\nThe above exception was the direct cause of the following exception:\n",
      "\u001b[0;31mKeyError\u001b[0m                                  Traceback (most recent call last)",
      "Cell \u001b[0;32mIn[10], line 1\u001b[0m\n\u001b[0;32m----> 1\u001b[0m filtered_df \u001b[38;5;241m=\u001b[39m df[(\u001b[43mdf\u001b[49m\u001b[43m[\u001b[49m\u001b[38;5;124;43m'\u001b[39;49m\u001b[38;5;124;43mdate\u001b[39;49m\u001b[38;5;124;43m'\u001b[39;49m\u001b[43m]\u001b[49m\u001b[38;5;241m.\u001b[39mdt\u001b[38;5;241m.\u001b[39mdate() \u001b[38;5;241m==\u001b[39m pd\u001b[38;5;241m.\u001b[39mto_datetime(\u001b[38;5;124m'\u001b[39m\u001b[38;5;124m2022-09-29\u001b[39m\u001b[38;5;124m'\u001b[39m)\u001b[38;5;241m.\u001b[39mdate()) \u001b[38;5;241m&\u001b[39m (df[\u001b[38;5;124m'\u001b[39m\u001b[38;5;124mStock Name\u001b[39m\u001b[38;5;124m'\u001b[39m] \u001b[38;5;241m==\u001b[39m \u001b[38;5;124m'\u001b[39m\u001b[38;5;124mTSLA\u001b[39m\u001b[38;5;124m'\u001b[39m)]\n\u001b[1;32m      2\u001b[0m \u001b[38;5;28mprint\u001b[39m(filtered_df)\n",
      "File \u001b[0;32m~/.conda/envs/fingpt/lib/python3.10/site-packages/pandas/core/frame.py:3761\u001b[0m, in \u001b[0;36mDataFrame.__getitem__\u001b[0;34m(self, key)\u001b[0m\n\u001b[1;32m   3759\u001b[0m \u001b[38;5;28;01mif\u001b[39;00m \u001b[38;5;28mself\u001b[39m\u001b[38;5;241m.\u001b[39mcolumns\u001b[38;5;241m.\u001b[39mnlevels \u001b[38;5;241m>\u001b[39m \u001b[38;5;241m1\u001b[39m:\n\u001b[1;32m   3760\u001b[0m     \u001b[38;5;28;01mreturn\u001b[39;00m \u001b[38;5;28mself\u001b[39m\u001b[38;5;241m.\u001b[39m_getitem_multilevel(key)\n\u001b[0;32m-> 3761\u001b[0m indexer \u001b[38;5;241m=\u001b[39m \u001b[38;5;28;43mself\u001b[39;49m\u001b[38;5;241;43m.\u001b[39;49m\u001b[43mcolumns\u001b[49m\u001b[38;5;241;43m.\u001b[39;49m\u001b[43mget_loc\u001b[49m\u001b[43m(\u001b[49m\u001b[43mkey\u001b[49m\u001b[43m)\u001b[49m\n\u001b[1;32m   3762\u001b[0m \u001b[38;5;28;01mif\u001b[39;00m is_integer(indexer):\n\u001b[1;32m   3763\u001b[0m     indexer \u001b[38;5;241m=\u001b[39m [indexer]\n",
      "File \u001b[0;32m~/.conda/envs/fingpt/lib/python3.10/site-packages/pandas/core/indexes/base.py:3655\u001b[0m, in \u001b[0;36mIndex.get_loc\u001b[0;34m(self, key)\u001b[0m\n\u001b[1;32m   3653\u001b[0m     \u001b[38;5;28;01mreturn\u001b[39;00m \u001b[38;5;28mself\u001b[39m\u001b[38;5;241m.\u001b[39m_engine\u001b[38;5;241m.\u001b[39mget_loc(casted_key)\n\u001b[1;32m   3654\u001b[0m \u001b[38;5;28;01mexcept\u001b[39;00m \u001b[38;5;167;01mKeyError\u001b[39;00m \u001b[38;5;28;01mas\u001b[39;00m err:\n\u001b[0;32m-> 3655\u001b[0m     \u001b[38;5;28;01mraise\u001b[39;00m \u001b[38;5;167;01mKeyError\u001b[39;00m(key) \u001b[38;5;28;01mfrom\u001b[39;00m \u001b[38;5;21;01merr\u001b[39;00m\n\u001b[1;32m   3656\u001b[0m \u001b[38;5;28;01mexcept\u001b[39;00m \u001b[38;5;167;01mTypeError\u001b[39;00m:\n\u001b[1;32m   3657\u001b[0m     \u001b[38;5;66;03m# If we have a listlike key, _check_indexing_error will raise\u001b[39;00m\n\u001b[1;32m   3658\u001b[0m     \u001b[38;5;66;03m#  InvalidIndexError. Otherwise we fall through and re-raise\u001b[39;00m\n\u001b[1;32m   3659\u001b[0m     \u001b[38;5;66;03m#  the TypeError.\u001b[39;00m\n\u001b[1;32m   3660\u001b[0m     \u001b[38;5;28mself\u001b[39m\u001b[38;5;241m.\u001b[39m_check_indexing_error(key)\n",
      "\u001b[0;31mKeyError\u001b[0m: 'date'"
     ]
    }
   ],
   "source": [
    "df['date'] = pd.to_datetime(df['date'])\n",
    "filtered_df = df[(df['date'].dt.date() == pd.to_datetime('2022-09-29').date()) & (df['Stock Name'] == 'TSLA')]\n",
    "print(filtered_df)"
   ]
  },
  {
   "cell_type": "code",
   "execution_count": 7,
   "metadata": {},
   "outputs": [
    {
     "name": "stdout",
     "output_type": "stream",
     "text": [
      "[['TSLA', 37422], ['MSFT', 4089], ['PG', 4089], ['META', 2751], ['AMZN', 4089], ['AMD', 2227], ['AAPL', 5056], ['TSM', 11034], ['NIO', 3021]]\n",
      "9\n",
      "[['TSLA', 37422], ['MSFT', 4089], ['PG', 4089], ['META', 2751], ['AMZN', 4089], ['GOOG', 1291], ['AMD', 2227], ['AAPL', 5056], ['NFLX', 1727], ['TSM', 11034], ['NIO', 3021]]\n",
      "11\n"
     ]
    }
   ],
   "source": [
    "unique_stock_names = df['Stock Name'].unique()\n",
    "stock_names_longer_1825 = []\n",
    "stock_names_longer_1095 = []\n",
    "\n",
    "for unique_stock_name in unique_stock_names:\n",
    "    stock_rows = df[df['Stock Name'] == unique_stock_name]\n",
    "    # print(unique_stock_name, len(stock_rows)) #各企業ごとのツイート数　かなりばらつきがある　ex TSLA 37422 KO 310\n",
    "    #１年間（30-09-2021 till 30-09-2022）のデータセットで1日あたり５件ツイートが必要とすると，１８２５以上ツイートあるものが対象\n",
    "    if len(stock_rows) > 1825:\n",
    "        stock_names_longer_1825.append([unique_stock_name, len(stock_rows)])\n",
    "    if len(stock_rows) > 1095: #1日あたり3件ツイート\n",
    "        stock_names_longer_1095.append([unique_stock_name, len(stock_rows)])\n",
    "    # print(unique_stock_name, stock_rows.iloc[0][\"Tweet\"])\n",
    "    # print(\"\")\n",
    "\n",
    "print(stock_names_longer_1825)\n",
    "print(len(stock_names_longer_1825)) #9\n",
    "\n",
    "print(stock_names_longer_1095)\n",
    "print(len(stock_names_longer_1095)) #11\n",
    "\n",
    "#先生曰くツイート少ない企業でも，ツイートなしで機能するという点で強調できるから，pickleに追加してもいいとか"
   ]
  },
  {
   "cell_type": "code",
   "execution_count": 8,
   "metadata": {},
   "outputs": [],
   "source": [
    "#去年のpickle\n",
    "\n",
    "pikle_path = \"/home/fukuda/datasets/pickles_oneSEC_0tumeru_byfingpt/S_test_data_sorted_in_jsons_6_2015-10-01~2015-10-07_20_7_5_384.pkl\"\n",
    "with open(pikle_path, \"rb\") as file:\n",
    "    loaded_pickle = pickle.load(file)"
   ]
  },
  {
   "cell_type": "code",
   "execution_count": null,
   "metadata": {},
   "outputs": [],
   "source": [
    "print(loaded_pickle[0])"
   ]
  }
 ],
 "metadata": {
  "kernelspec": {
   "display_name": "fingpt",
   "language": "python",
   "name": "python3"
  },
  "language_info": {
   "codemirror_mode": {
    "name": "ipython",
    "version": 3
   },
   "file_extension": ".py",
   "mimetype": "text/x-python",
   "name": "python",
   "nbconvert_exporter": "python",
   "pygments_lexer": "ipython3",
   "version": "3.10.12"
  }
 },
 "nbformat": 4,
 "nbformat_minor": 2
}
