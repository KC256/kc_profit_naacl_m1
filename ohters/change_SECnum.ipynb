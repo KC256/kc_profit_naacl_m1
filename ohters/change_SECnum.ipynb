{
 "cells": [
  {
   "cell_type": "code",
   "execution_count": 2,
   "metadata": {},
   "outputs": [],
   "source": [
    "import pickle\n",
    "import pandas as pd\n",
    "import torch\n",
    "import os"
   ]
  },
  {
   "cell_type": "markdown",
   "metadata": {},
   "source": [
    "SECの数を２個から１個に削減"
   ]
  },
  {
   "cell_type": "code",
   "execution_count": 30,
   "metadata": {},
   "outputs": [],
   "source": [
    "load_path = \"/home/fukuda/datasets/pickles_withSECtimefeature_0tumeru/S_test_data_sorted_in_jsons_6_2015-10-01~2015-12-31_20_7_5_384.pkl\"\n",
    "with open(load_path, 'rb') as file:\n",
    "    loaded_data = pickle.load(file)\n"
   ]
  },
  {
   "cell_type": "code",
   "execution_count": 27,
   "metadata": {},
   "outputs": [
    {
     "name": "stdout",
     "output_type": "stream",
     "text": [
      "torch.Size([384])\n",
      "torch.Size([2, 384])\n",
      "torch.Size([2, 384])\n",
      "torch.Size([384])\n",
      "torch.Size([2, 384])\n",
      "torch.Size([20, 2, 384])\n",
      "dict_keys(['dates', 'date_target', 'date_last', 'embedding', 'length_data', 'time_features', 'adj_close_last', 'adj_close_target', 'text_difficulty', 'volatility', 'price_text_difficulty', 'price_text_vol_difficulty', 'price_difficulty', 'emb_Discussion_and_Analysis', 'SEC_time_features'])\n",
      "torch.Size([20, 2])\n",
      "torch.Size([20, 7, 5, 1])\n"
     ]
    }
   ],
   "source": [
    "print(loaded_data[0]['emb_Discussion_and_Analysis'][0][1].shape)\n",
    "print(loaded_data[0]['emb_Discussion_and_Analysis'][0].shape)\n",
    "loaded_data[0]['emb_Discussion_and_Analysis'][0]=loaded_data[0]['emb_Discussion_and_Analysis'][0][1].view(-1)\n",
    "loaded_data[0]['emb_Discussion_and_Analysis'][0] = loaded_data[0]['emb_Discussion_and_Analysis'][0][1]\n",
    "temp = loaded_data[0]['emb_Discussion_and_Analysis'][0][1]\n",
    "print(loaded_data[0]['emb_Discussion_and_Analysis'][0].shape)\n",
    "print(temp.shape)\n",
    "loaded_data[0]['emb_Discussion_and_Analysis'][0] = temp\n",
    "print(loaded_data[0]['emb_Discussion_and_Analysis'][0].shape)\n",
    "\n",
    "# loaded_data[0]['emb_Discussion_and_Analysis'] = 1\n",
    "print(loaded_data[0]['emb_Discussion_and_Analysis'].shape)\n",
    "print(loaded_data[0].keys())\n",
    "print(loaded_data[0]['SEC_time_features'].shape)\n",
    "print(loaded_data[0]['time_features'].shape)"
   ]
  },
  {
   "cell_type": "code",
   "execution_count": 31,
   "metadata": {},
   "outputs": [],
   "source": [
    "tensor = torch.zeros(20, 1, 384)\n",
    "new_data = []\n",
    "i=0\n",
    "while i<len(loaded_data): #pickleの日付数\n",
    "    filtered_data = {key: value for key, value in loaded_data[i].items() if key != 'emb_Discussion_and_Analysis'}\n",
    "    emb_list = [[] for _ in range(len(filtered_data[\"embedding\"]))]\n",
    "    j=0\n",
    "    while j<len(filtered_data[\"embedding\"]): #企業数\n",
    "        emb_list[j] = loaded_data[i][\"emb_Discussion_and_Analysis\"][j][1]\n",
    "        j+=1\n",
    "    # print(filtered_data[\"emb_Discussion_and_Analysis\"][0].shape)\n",
    "    # print(filtered_data)\n",
    "    # break\n",
    "    # print(emb_list)\n",
    "    shapes = [tensor.shape for tensor in emb_list]\n",
    "    # print(shapes)\n",
    "    # break\n",
    "    # emb_tensor = torch.tensor(emb_list)\n",
    "    emb_tensor = torch.stack(emb_list)\n",
    "    filtered_data['emb_Discussion_and_Analysis'] = emb_tensor\n",
    "    new_data.append(filtered_data)\n",
    "    i+=1\n",
    "\n"
   ]
  },
  {
   "cell_type": "code",
   "execution_count": null,
   "metadata": {},
   "outputs": [],
   "source": [
    "# print(len(filtered_data[\"embedding\"]))\n",
    "# print(loaded_data[0][\"SEC_time_features\"])\n",
    "# print(loaded_data[0][\"emb_Discussion_and_Analysis\"])\n",
    "# print(loaded_data[0][\"SEC_time_features\"])\n",
    "print(new_data[0][\"emb_Discussion_and_Analysis\"])"
   ]
  },
  {
   "cell_type": "code",
   "execution_count": 32,
   "metadata": {},
   "outputs": [],
   "source": [
    "#SEC_time_featuresを追加\n",
    "tensor = torch.zeros(20, 1)\n",
    "loaded_data = new_data\n",
    "new_data = []\n",
    "i=0\n",
    "while i<len(loaded_data): #pickleの日付数\n",
    "    filtered_data = {key: value for key, value in loaded_data[i].items() if key != 'SEC_time_features'}\n",
    "    emb_list = [[] for _ in range(len(filtered_data[\"embedding\"]))]\n",
    "    j=0\n",
    "    while j<len(filtered_data[\"embedding\"]): #企業数\n",
    "        emb_list[j] = [loaded_data[i][\"SEC_time_features\"][j][0].item()]\n",
    "        # print(loaded_data[i][\"SEC_time_features\"][j][0].item())\n",
    "        j+=1\n",
    "    # print(filtered_data[\"emb_Discussion_and_Analysis\"][0].shape)\n",
    "    # print(filtered_data)\n",
    "    # break\n",
    "    # print(emb_list)\n",
    "    # shapes = [tensor.shape for tensor in emb_list]\n",
    "    # print(shapes)\n",
    "    # break\n",
    "    # print(emb_list)\n",
    "    emb_tensor = torch.tensor(emb_list)\n",
    "    # emb_tensor = torch.stack(emb_list)\n",
    "    filtered_data['SEC_time_features'] = emb_tensor\n",
    "    new_data.append(filtered_data)\n",
    "    i+=1\n",
    "\n"
   ]
  },
  {
   "cell_type": "code",
   "execution_count": 33,
   "metadata": {},
   "outputs": [
    {
     "name": "stdout",
     "output_type": "stream",
     "text": [
      "torch.Size([20, 1])\n",
      "torch.Size([20, 384])\n"
     ]
    }
   ],
   "source": [
    "# print(len(new_data), len(loaded_data))\n",
    "# print(loaded_data[0]['emb_Discussion_and_Analysis'][-1][1].shape)\n",
    "# print(loaded_data[0]['emb_Discussion_and_Analysis'][-1].shape)\n",
    "# # print(new_data[0]['emb_Discussion_and_Analysis'][-1][1].shape)\n",
    "# print(new_data[0]['emb_Discussion_and_Analysis'][-1].shape)\n",
    "# print(type(new_data[0]['emb_Discussion_and_Analysis']))\n",
    "# print(type(loaded_data[0]['emb_Discussion_and_Analysis']))\n",
    "\n",
    "# print(emb_list[0])\n",
    "# print(new_data)\n",
    "print(new_data[0][\"SEC_time_features\"].shape)\n",
    "# print(new_data[0][\"SEC_time_features\"])\n",
    "print(new_data[0][\"emb_Discussion_and_Analysis\"].shape)"
   ]
  },
  {
   "cell_type": "code",
   "execution_count": 34,
   "metadata": {},
   "outputs": [
    {
     "name": "stdout",
     "output_type": "stream",
     "text": [
      "/home/fukuda/datasets/pickles_oneSECtimefeature_0tumeru/S_test_data_sorted_in_jsons_6_2015-10-01~2015-12-31_20_7_5_384.pkl\n"
     ]
    }
   ],
   "source": [
    "save_folder=\"/home/fukuda/datasets/pickles_oneSECtimefeature_0tumeru\"\n",
    "save_filename=os.path.basename(load_path)\n",
    "save_path=os.path.join(save_folder, save_filename)\n",
    "print(save_path)\n",
    "with open(save_path, 'wb') as f:\n",
    "    pickle.dump(new_data, f)"
   ]
  }
 ],
 "metadata": {
  "kernelspec": {
   "display_name": "Profit-naacl",
   "language": "python",
   "name": "python3"
  },
  "language_info": {
   "codemirror_mode": {
    "name": "ipython",
    "version": 3
   },
   "file_extension": ".py",
   "mimetype": "text/x-python",
   "name": "python",
   "nbconvert_exporter": "python",
   "pygments_lexer": "ipython3",
   "version": "3.9.17"
  }
 },
 "nbformat": 4,
 "nbformat_minor": 2
}
