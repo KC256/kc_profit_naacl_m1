{
  "cells": [
    {
      "cell_type": "code",
      "execution_count": 1,
      "metadata": {},
      "outputs": [],
      "source": [
        "#辞書型データの配列に対し、日付区間を指定してその区間で配列を分割するコードを生成する\n",
        "import pickle\n",
        "\n",
        "load_path = \"/home/fukuda/profit-naacl/profit-naacl/pickles_0tumeru/S_test_data_sorted_in_jsons_6_2014-09-01~2015-12-31_20_7_5_384.pkl\"\n",
        "with open(load_path, \"rb\") as file:\n",
        "    loaded_data = pickle.load(file)"
      ]
    },
    {
      "cell_type": "code",
      "execution_count": 4,
      "metadata": {},
      "outputs": [
        {
          "name": "stdout",
          "output_type": "stream",
          "text": [
            "2015-10-01\n",
            "2015-10-30\n"
          ]
        }
      ],
      "source": [
        "#出力されたコードをloaded_dataに対し適応\n",
        "start_date = '2015-10-01'\n",
        "end_date = '2015-10-30'\n",
        "\n",
        "result = [d for d in loaded_data if start_date <= d['date_target'] <= end_date]\n",
        "print(result[0][\"date_target\"])\n",
        "print(result[-1][\"date_target\"])"
      ]
    },
    {
      "cell_type": "code",
      "execution_count": 5,
      "metadata": {},
      "outputs": [
        {
          "name": "stdout",
          "output_type": "stream",
          "text": [
            "2014-09-01~2015-12-31\n",
            "2015-10-01~2015-10-30\n",
            "/home/fukuda/profit-naacl/profit-naacl/pickles_0tumeru/S_test_data_sorted_in_jsons_6_2015-10-01~2015-10-30_20_7_5_384.pkl\n"
          ]
        }
      ],
      "source": [
        "import re\n",
        "# 日付部分を正規表現で検出\n",
        "date_pattern = r'\\d{4}-\\d{2}-\\d{2}~\\d{4}-\\d{2}-\\d{2}'\n",
        "match = re.search(date_pattern, load_path)\n",
        "\n",
        "if match:\n",
        "    detected_date = match.group()\n",
        "    print(detected_date)\n",
        "    new_date = start_date + \"~\" + end_date\n",
        "    print(new_date)\n",
        "    new_save_path = load_path.replace(detected_date, new_date)\n",
        "    with open(new_save_path, \"wb\") as file:\n",
        "        pickle.dump(result, file)\n",
        "    print(new_save_path)\n",
        "else:\n",
        "    print(\"日付が見つかりませんでした。\")\n"
      ]
    },
    {
      "cell_type": "code",
      "execution_count": null,
      "metadata": {},
      "outputs": [],
      "source": [
        "with open(new_save_path, \"rb\") as file:\n",
        "    loaded_data = pickle.load(file)\n",
        "    print(loaded_data[-1][\"embedding\"][1][6])\n",
        "    "
      ]
    },
    {
      "cell_type": "code",
      "execution_count": 26,
      "metadata": {},
      "outputs": [
        {
          "name": "stdout",
          "output_type": "stream",
          "text": [
            "<class 'list'>\n"
          ]
        }
      ],
      "source": [
        "# print(loaded_data[-1][\"embedding\"][1])\n",
        "print(type(loaded_data[-1][\"emb_Discussion_and_Analysis\"]))"
      ]
    }
  ],
  "metadata": {
    "colab": {
      "provenance": []
    },
    "kernelspec": {
      "display_name": "Python 3",
      "name": "python3"
    },
    "language_info": {
      "codemirror_mode": {
        "name": "ipython",
        "version": 3
      },
      "file_extension": ".py",
      "mimetype": "text/x-python",
      "name": "python",
      "nbconvert_exporter": "python",
      "pygments_lexer": "ipython3",
      "version": "3.10.12"
    }
  },
  "nbformat": 4,
  "nbformat_minor": 0
}
