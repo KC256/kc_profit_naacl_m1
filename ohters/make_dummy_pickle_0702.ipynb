{
  "cells": [
    {
      "cell_type": "markdown",
      "metadata": {},
      "source": [
        "モデル内で買われている銘柄と買われていない銘柄を合体させて買い➡︎売りとなるか観察するようのpickleを作成"
      ]
    },
    {
      "cell_type": "code",
      "execution_count": 1,
      "metadata": {},
      "outputs": [],
      "source": [
        "#辞書型データの配列に対し、日付区間を指定してその区間で配列を分割するコードを生成する\n",
        "import pickle\n",
        "\n",
        "load_path = \"/home/fukuda/datasets/pickles_oneSEC_0tumeru_byfingpt/S_test_data_sorted_in_jsons_6_2015-10-01~2015-10-30_20_7_5_384.pkl\"\n",
        "with open(load_path, \"rb\") as file:\n",
        "    loaded_data = pickle.load(file)"
      ]
    },
    {
      "cell_type": "code",
      "execution_count": 2,
      "metadata": {},
      "outputs": [],
      "source": [
        "import re\n",
        "import os"
      ]
    },
    {
      "cell_type": "code",
      "execution_count": null,
      "metadata": {},
      "outputs": [],
      "source": [
        "temp = loaded_data[0]\n",
        "print(temp.keys())\n",
        "for key in temp.keys():\n",
        "    try:\n",
        "        print(key, temp[key].shape)\n",
        "        temp[key] = temp[key][:2]\n",
        "        print(key, temp[key].shape)\n",
        "    except:\n",
        "        print(key)\n"
      ]
    },
    {
      "cell_type": "code",
      "execution_count": 8,
      "metadata": {},
      "outputs": [
        {
          "name": "stdout",
          "output_type": "stream",
          "text": [
            "2015-01-01~2015-09-30\n",
            "2015-10-01~2015-12-31\n"
          ]
        }
      ],
      "source": [
        "for start_date, end_date in zip(start_dates, end_dates):\n",
        "    result = [d for d in loaded_data if start_date <= d['date_target'] <= end_date]\n",
        "    # print(result[0][\"date_target\"])\n",
        "    # print(result[-1][\"date_target\"])\n",
        "\n",
        "    # 日付部分を正規表現で検出\n",
        "    date_pattern = r'\\d{4}-\\d{2}-\\d{2}~\\d{4}-\\d{2}-\\d{2}'\n",
        "    match = re.search(date_pattern, load_path)\n",
        "\n",
        "    if match:\n",
        "        detected_date = match.group()\n",
        "        # print(detected_date)\n",
        "        new_date = start_date + \"~\" + end_date\n",
        "        # print(new_date)\n",
        "        new_save_path = load_path.replace(detected_date, new_date)\n",
        "        if os.path.exists(new_save_path):\n",
        "            print(\"already exist:\", new_date)\n",
        "        else:\n",
        "            with open(new_save_path, \"wb\") as file:\n",
        "                pickle.dump(result, file)\n",
        "            print(new_date)\n",
        "    else:\n",
        "        print(\"日付が見つかりませんでした。\")\n"
      ]
    }
  ],
  "metadata": {
    "colab": {
      "provenance": []
    },
    "kernelspec": {
      "display_name": "Python 3",
      "name": "python3"
    },
    "language_info": {
      "codemirror_mode": {
        "name": "ipython",
        "version": 3
      },
      "file_extension": ".py",
      "mimetype": "text/x-python",
      "name": "python",
      "nbconvert_exporter": "python",
      "pygments_lexer": "ipython3",
      "version": "3.10.12"
    }
  },
  "nbformat": 4,
  "nbformat_minor": 0
}
