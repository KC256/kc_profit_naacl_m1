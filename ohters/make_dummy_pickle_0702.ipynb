{
  "cells": [
    {
      "cell_type": "markdown",
      "metadata": {},
      "source": [
        "モデル内で買われている銘柄と買われていない銘柄を合体させて買い➡︎売りとなるか観察するようのpickleを作成"
      ]
    },
    {
      "cell_type": "code",
      "execution_count": 1,
      "metadata": {},
      "outputs": [],
      "source": [
        "#辞書型データの配列に対し、日付区間を指定してその区間で配列を分割するコードを生成する\n",
        "import pickle\n",
        "import re\n",
        "import os\n",
        "\n",
        "load_path = \"/home/fukuda/M1_reserch/datasets/pickles_0tumeru/S_test_data_sorted_in_jsons_6_2015-10-01~2015-10-03_20_7_5_384.pkl\"\n",
        "with open(load_path, \"rb\") as file:\n",
        "    loaded_data = pickle.load(file)"
      ]
    },
    {
      "cell_type": "code",
      "execution_count": 4,
      "metadata": {},
      "outputs": [
        {
          "name": "stdout",
          "output_type": "stream",
          "text": [
            "dict_keys(['dates', 'date_target', 'date_last', 'embedding', 'length_data', 'time_features', 'adj_close_last', 'adj_close_target', 'text_difficulty', 'volatility', 'price_text_difficulty', 'price_text_vol_difficulty', 'price_difficulty'])\n",
            "dates\n",
            "date_target\n",
            "date_last\n",
            "embedding torch.Size([2, 7, 5, 384])\n",
            "embedding torch.Size([2, 7, 5, 384])\n",
            "length_data torch.Size([2, 7])\n",
            "length_data torch.Size([2, 7])\n",
            "time_features torch.Size([2, 7, 5, 1])\n",
            "time_features torch.Size([2, 7, 5, 1])\n",
            "adj_close_last torch.Size([2])\n",
            "adj_close_last torch.Size([2])\n",
            "adj_close_target torch.Size([2])\n",
            "adj_close_target torch.Size([2])\n",
            "text_difficulty torch.Size([2])\n",
            "text_difficulty torch.Size([2])\n",
            "volatility torch.Size([2])\n",
            "volatility torch.Size([2])\n",
            "price_text_difficulty torch.Size([2])\n",
            "price_text_difficulty torch.Size([2])\n",
            "price_text_vol_difficulty torch.Size([2])\n",
            "price_text_vol_difficulty torch.Size([2])\n",
            "price_difficulty torch.Size([2])\n",
            "price_difficulty torch.Size([2])\n"
          ]
        }
      ],
      "source": [
        "temp = loaded_data[0]\n",
        "print(temp.keys())\n",
        "for key in temp.keys():\n",
        "    try:\n",
        "        print(key, temp[key].shape)\n",
        "        temp[key] = temp[key][:2]\n",
        "        print(key, temp[key].shape)\n",
        "    except:\n",
        "        print(key)\n",
        "\n",
        "print(temp[\"\"])"
      ]
    },
    {
      "cell_type": "code",
      "execution_count": 3,
      "metadata": {},
      "outputs": [
        {
          "ename": "NameError",
          "evalue": "name 'start_dates' is not defined",
          "output_type": "error",
          "traceback": [
            "\u001b[0;31m---------------------------------------------------------------------------\u001b[0m",
            "\u001b[0;31mNameError\u001b[0m                                 Traceback (most recent call last)",
            "Cell \u001b[0;32mIn[3], line 1\u001b[0m\n\u001b[0;32m----> 1\u001b[0m \u001b[38;5;28;01mfor\u001b[39;00m start_date, end_date \u001b[38;5;129;01min\u001b[39;00m \u001b[38;5;28mzip\u001b[39m(\u001b[43mstart_dates\u001b[49m, end_dates):\n\u001b[1;32m      2\u001b[0m     result \u001b[38;5;241m=\u001b[39m [d \u001b[38;5;28;01mfor\u001b[39;00m d \u001b[38;5;129;01min\u001b[39;00m loaded_data \u001b[38;5;28;01mif\u001b[39;00m start_date \u001b[38;5;241m<\u001b[39m\u001b[38;5;241m=\u001b[39m d[\u001b[38;5;124m'\u001b[39m\u001b[38;5;124mdate_target\u001b[39m\u001b[38;5;124m'\u001b[39m] \u001b[38;5;241m<\u001b[39m\u001b[38;5;241m=\u001b[39m end_date]\n\u001b[1;32m      3\u001b[0m     \u001b[38;5;66;03m# print(result[0][\"date_target\"])\u001b[39;00m\n\u001b[1;32m      4\u001b[0m     \u001b[38;5;66;03m# print(result[-1][\"date_target\"])\u001b[39;00m\n\u001b[1;32m      5\u001b[0m \n\u001b[1;32m      6\u001b[0m     \u001b[38;5;66;03m# 日付部分を正規表現で検出\u001b[39;00m\n",
            "\u001b[0;31mNameError\u001b[0m: name 'start_dates' is not defined"
          ]
        }
      ],
      "source": [
        "for start_date, end_date in zip(start_dates, end_dates):\n",
        "    result = [d for d in loaded_data if start_date <= d['date_target'] <= end_date]\n",
        "    # print(result[0][\"date_target\"])\n",
        "    # print(result[-1][\"date_target\"])\n",
        "\n",
        "    # 日付部分を正規表現で検出\n",
        "    date_pattern = r'\\d{4}-\\d{2}-\\d{2}~\\d{4}-\\d{2}-\\d{2}'\n",
        "    match = re.search(date_pattern, load_path)\n",
        "\n",
        "    if match:\n",
        "        detected_date = match.group()\n",
        "        # print(detected_date)\n",
        "        new_date = start_date + \"~\" + end_date\n",
        "        # print(new_date)\n",
        "        new_save_path = load_path.replace(detected_date, new_date)\n",
        "        if os.path.exists(new_save_path):\n",
        "            print(\"already exist:\", new_date)\n",
        "        else:\n",
        "            with open(new_save_path, \"wb\") as file:\n",
        "                pickle.dump(result, file)\n",
        "            print(new_date)\n",
        "    else:\n",
        "        print(\"日付が見つかりませんでした。\")\n"
      ]
    }
  ],
  "metadata": {
    "colab": {
      "provenance": []
    },
    "kernelspec": {
      "display_name": "Python 3",
      "name": "python3"
    },
    "language_info": {
      "codemirror_mode": {
        "name": "ipython",
        "version": 3
      },
      "file_extension": ".py",
      "mimetype": "text/x-python",
      "name": "python",
      "nbconvert_exporter": "python",
      "pygments_lexer": "ipython3",
      "version": "3.9.17"
    }
  },
  "nbformat": 4,
  "nbformat_minor": 0
}
