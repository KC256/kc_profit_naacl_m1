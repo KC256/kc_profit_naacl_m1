{
 "cells": [
  {
   "cell_type": "code",
   "execution_count": 1,
   "metadata": {},
   "outputs": [
    {
     "name": "stdout",
     "output_type": "stream",
     "text": [
      "[-2  0 -2  0 -1]\n"
     ]
    }
   ],
   "source": [
    "import numpy as np\n",
    "\n",
    "array1 = np.array([1, 2, 3, 4, 5])\n",
    "array2 = np.array([3, 2, 5, 4, 6])\n",
    "\n",
    "difference = np.subtract(array1, array2)\n",
    "print(difference)\n"
   ]
  },
  {
   "cell_type": "code",
   "execution_count": 9,
   "metadata": {},
   "outputs": [],
   "source": [
    "import pickle\n",
    "\n",
    "load_path = \"/home/fukuda/datasets/pickles_withSECtimefeature_0tumeru/S_test_data_sorted_in_jsons_6_2015-10-01~2015-12-31_20_7_5_384.pkl\"\n",
    "with open(load_path, \"rb\") as file:\n",
    "    loaded_data = pickle.load(file)"
   ]
  },
  {
   "cell_type": "code",
   "execution_count": null,
   "metadata": {},
   "outputs": [],
   "source": [
    "print(loaded_data[0].keys())\n",
    "# print(loaded_data[0]['SEC_time_features'])\n",
    "print(loaded_data[0]['SEC_time_features'].shape)\n",
    "print(loaded_data[0]['time_features'])"
   ]
  },
  {
   "cell_type": "code",
   "execution_count": null,
   "metadata": {},
   "outputs": [],
   "source": [
    "python main_2.py --test_pickle=\"../../datasets/pickles_0tumeru/S_test_data_sorted_in_jsons_6_2015-10-01~2015-10-30_20_7_5_384.pkl\" --train_pickle=\"../../datasets/pickles_0tumeru/S_test_data_sorted_in_jsons_6_2015-10-01~2015-10-30_20_7_5_384.pkl\" --initial_account_balance=100000 --mode=test --resumes_folder_path=\"../../output_2/Humanoid-v2-run8/step_27200\""
   ]
  },
  {
   "cell_type": "code",
   "execution_count": 32,
   "metadata": {},
   "outputs": [
    {
     "name": "stdout",
     "output_type": "stream",
     "text": [
      "setsid nohup python main_2.py                                             --test_pickle=../../datasets/pickles_0tumeru/S_test_data_sorted_in_jsons_6_2015-10-01~2015-10-30_20_7_5_384.pkl                                             --train_pickle=../../datasets/pickles_0tumeru/S_test_data_sorted_in_jsons_6_2015-10-01~2015-10-30_20_7_5_384.pkl                                             --initial_account_balance=100000 --mode=test                                             --resumes_folder_path=//home/fukuda/M1_reserch/output_2/Humanoid-v2-run8/step_27200                                             > ../../experiment/1006/step_27200_2015-10-01~2015-10-30_20_7_5_384.log 2>&1 &\n",
      "setsid nohup python main_2.py                                             --test_pickle=../../datasets/pickles_0tumeru/S_test_data_sorted_in_jsons_6_2015-10-01~2015-10-30_20_7_5_384.pkl                                             --train_pickle=../../datasets/pickles_0tumeru/S_test_data_sorted_in_jsons_6_2015-10-01~2015-10-30_20_7_5_384.pkl                                             --initial_account_balance=100000 --mode=test                                             --resumes_folder_path=//home/fukuda/M1_reserch/output_2/Humanoid-v2-run8/step_5440                                             > ../../experiment/1006/step_5440_2015-10-01~2015-10-30_20_7_5_384.log 2>&1 &\n",
      "setsid nohup python main_2.py                                             --test_pickle=../../datasets/pickles_0tumeru/S_test_data_sorted_in_jsons_6_2015-12-01~2015-12-31_20_7_5_384.pkl                                             --train_pickle=../../datasets/pickles_0tumeru/S_test_data_sorted_in_jsons_6_2015-12-01~2015-12-31_20_7_5_384.pkl                                             --initial_account_balance=100000 --mode=test                                             --resumes_folder_path=//home/fukuda/M1_reserch/output_2/Humanoid-v2-run8/step_27200                                             > ../../experiment/1006/step_27200_2015-12-01~2015-12-31_20_7_5_384.log 2>&1 &\n",
      "setsid nohup python main_2.py                                             --test_pickle=../../datasets/pickles_0tumeru/S_test_data_sorted_in_jsons_6_2015-12-01~2015-12-31_20_7_5_384.pkl                                             --train_pickle=../../datasets/pickles_0tumeru/S_test_data_sorted_in_jsons_6_2015-12-01~2015-12-31_20_7_5_384.pkl                                             --initial_account_balance=100000 --mode=test                                             --resumes_folder_path=//home/fukuda/M1_reserch/output_2/Humanoid-v2-run8/step_5440                                             > ../../experiment/1006/step_5440_2015-12-01~2015-12-31_20_7_5_384.log 2>&1 &\n",
      "setsid nohup python main_2.py                                             --test_pickle=../../datasets/pickles_0tumeru/S_test_data_sorted_in_jsons_6_2015-11-01~2015-11-30_20_7_5_384.pkl                                             --train_pickle=../../datasets/pickles_0tumeru/S_test_data_sorted_in_jsons_6_2015-11-01~2015-11-30_20_7_5_384.pkl                                             --initial_account_balance=100000 --mode=test                                             --resumes_folder_path=//home/fukuda/M1_reserch/output_2/Humanoid-v2-run8/step_27200                                             > ../../experiment/1006/step_27200_2015-11-01~2015-11-30_20_7_5_384.log 2>&1 &\n",
      "setsid nohup python main_2.py                                             --test_pickle=../../datasets/pickles_0tumeru/S_test_data_sorted_in_jsons_6_2015-11-01~2015-11-30_20_7_5_384.pkl                                             --train_pickle=../../datasets/pickles_0tumeru/S_test_data_sorted_in_jsons_6_2015-11-01~2015-11-30_20_7_5_384.pkl                                             --initial_account_balance=100000 --mode=test                                             --resumes_folder_path=//home/fukuda/M1_reserch/output_2/Humanoid-v2-run8/step_5440                                             > ../../experiment/1006/step_5440_2015-11-01~2015-11-30_20_7_5_384.log 2>&1 &\n"
     ]
    }
   ],
   "source": [
    "\n",
    "#1006 experiment実行用\n",
    "import os\n",
    "import re\n",
    "import subprocess\n",
    "os.chdir(\"/home/fukuda/M1_reserch/kc_profit_naacl_m1/profit_naacl_new_fortest\")\n",
    "# print(\"現在のディレクトリ:\", os.getcwd())\n",
    "initial_account_balance=100000\n",
    "test_pickles_path = \"../../datasets/pickles_0tumeru\"\n",
    "test_pickles = os.listdir(test_pickles_path)\n",
    "# print(test_pickles)\n",
    "resumes_folders_path = \"/home/fukuda/M1_reserch/output_2/Humanoid-v2-run8\"\n",
    "resumes_folders=os.listdir(resumes_folders_path)\n",
    "output_log_folder = \"../../experiment/1006\"\n",
    "\n",
    "for test_pickle in test_pickles:\n",
    "    for resumes_folder in resumes_folders:\n",
    "        test_pickle_path = os.path.join(test_pickles_path, test_pickle)\n",
    "\n",
    "        resumes_folder_path = re.findall(r'/', resumes_folders_path)[-1]+ os.path.join(resumes_folders_path, resumes_folder)\n",
    "        output_log_name = os.path.basename(resumes_folder_path) + \"_\" + test_pickle_path[-36:-4] + \".log\"\n",
    "        output_log_path = os.path.join(output_log_folder, output_log_name)\n",
    "        command = f\"setsid nohup python main_2.py \\\n",
    "                                            --test_pickle={test_pickle_path} \\\n",
    "                                            --train_pickle={test_pickle_path} \\\n",
    "                                            --initial_account_balance={initial_account_balance} --mode=test \\\n",
    "                                            --resumes_folder_path={resumes_folder_path} \\\n",
    "                                            > {output_log_path} 2>&1 &\"\n",
    "                                            \n",
    "        if os.path.basename(resumes_folder_path)!=\".DS_Store\" and test_pickle_path[-36:-4]!=\"2015-10-01~2015-12-31_20_7_5_384\":                                   \n",
    "            print(command)\n",
    "            result = subprocess.run(command, shell=True, stdout=subprocess.PIPE, text=True)\n",
    "        # break"
   ]
  },
  {
   "cell_type": "code",
   "execution_count": 6,
   "metadata": {},
   "outputs": [
    {
     "name": "stdout",
     "output_type": "stream",
     "text": [
      " change_SECnum.ipynb\t        make_graph_hold.ipynb\n",
      " divide_pickle_bydate.ipynb     make_graph_hold_0701.ipynb\n",
      " do_test.ipynb\t\t        make_graph_train.ipynb\n",
      " do_test.py\t\t        make_index_graph.ipynb\n",
      " make_csv_fortest.ipynb         make_taple.ipynb\n",
      " make_dummy_pickle_0702.ipynb   results\n",
      "'make_graph_2 copy.ipynb'       test.ipynb\n",
      " make_graph_2.ipynb\t        test.py\n",
      " make_graph_fortest.ipynb\n"
     ]
    }
   ],
   "source": [
    "!cd /home/fukuda/M1_reserch/kc_profit_naacl_m1/profit_naacl_new_fortest\n",
    "!ls"
   ]
  }
 ],
 "metadata": {
  "kernelspec": {
   "display_name": "Profit-naacl",
   "language": "python",
   "name": "python3"
  },
  "language_info": {
   "codemirror_mode": {
    "name": "ipython",
    "version": 3
   },
   "file_extension": ".py",
   "mimetype": "text/x-python",
   "name": "python",
   "nbconvert_exporter": "python",
   "pygments_lexer": "ipython3",
   "version": "3.9.17"
  }
 },
 "nbformat": 4,
 "nbformat_minor": 2
}
